{
 "cells": [
  {
   "cell_type": "code",
   "execution_count": 21,
   "metadata": {},
   "outputs": [],
   "source": [
    "a=np.random.rand(3,3,4)"
   ]
  },
  {
   "cell_type": "code",
   "execution_count": 16,
   "metadata": {},
   "outputs": [],
   "source": [
    " X = np.array([[[-9.035250067710876], [7.453250169754028], [33.34074878692627]],[[-6.63700008392334], [5.132999956607819], [31.66075038909912]],[[-5.1272499561309814], [8.251499891281128], [30.925999641418457]]])"
   ]
  },
  {
   "cell_type": "code",
   "execution_count": 17,
   "metadata": {},
   "outputs": [
    {
     "name": "stdout",
     "output_type": "stream",
     "text": [
      "(3, 3, 1)\n"
     ]
    }
   ],
   "source": [
    "print(X.shape)"
   ]
  },
  {
   "cell_type": "code",
   "execution_count": 22,
   "metadata": {},
   "outputs": [
    {
     "name": "stdout",
     "output_type": "stream",
     "text": [
      "[[[0.95681173 0.03151165 0.50026124 0.94557634]\n",
      "  [0.03578261 0.96930661 0.62891599 0.02472733]\n",
      "  [0.89212722 0.79086926 0.05346287 0.31592208]]\n",
      "\n",
      " [[0.2198385  0.30042708 0.21898122 0.13570494]\n",
      "  [0.34948209 0.24573529 0.35477699 0.23708391]\n",
      "  [0.17872495 0.70184862 0.72936168 0.23464543]]\n",
      "\n",
      " [[0.48415448 0.42504636 0.65234843 0.0071436 ]\n",
      "  [0.72792133 0.35514579 0.40014854 0.6904801 ]\n",
      "  [0.52230302 0.91854816 0.13075845 0.34228467]]]\n"
     ]
    }
   ],
   "source": [
    "print(a)"
   ]
  },
  {
   "cell_type": "code",
   "execution_count": 23,
   "metadata": {},
   "outputs": [
    {
     "name": "stdout",
     "output_type": "stream",
     "text": [
      "[[0.95681173 0.03151165 0.50026124 0.94557634 0.03578261 0.96930661\n",
      "  0.62891599 0.02472733 0.89212722 0.79086926 0.05346287 0.31592208]\n",
      " [0.2198385  0.30042708 0.21898122 0.13570494 0.34948209 0.24573529\n",
      "  0.35477699 0.23708391 0.17872495 0.70184862 0.72936168 0.23464543]\n",
      " [0.48415448 0.42504636 0.65234843 0.0071436  0.72792133 0.35514579\n",
      "  0.40014854 0.6904801  0.52230302 0.91854816 0.13075845 0.34228467]]\n"
     ]
    }
   ],
   "source": [
    "b=np.reshape(a,(a.shape[0],-1))\n",
    "print(b)"
   ]
  },
  {
   "cell_type": "code",
   "execution_count": 24,
   "metadata": {},
   "outputs": [],
   "source": [
    "a=np.random.rand(500,3072)\n",
    "b=np.random.rand(5000,3072)"
   ]
  },
  {
   "cell_type": "code",
   "execution_count": 33,
   "metadata": {},
   "outputs": [
    {
     "name": "stdout",
     "output_type": "stream",
     "text": [
      "(5000, 3072)\n",
      "[0.99048492 0.95361965 0.74931233 ... 0.15205094 0.26831066 0.25688164]\n"
     ]
    }
   ],
   "source": [
    "c[0:]=a[0]-b\n",
    "print(c[0:].shape)\n",
    "print(a[0])"
   ]
  },
  {
   "cell_type": "code",
   "execution_count": 30,
   "metadata": {},
   "outputs": [
    {
     "name": "stdout",
     "output_type": "stream",
     "text": [
      "[[0.64125932 0.98454888 0.77481252 ... 0.03588518 0.63361991 0.91532052]\n",
      " [0.92836425 0.97235166 0.5747014  ... 0.44784548 0.00720313 0.16542057]\n",
      " [0.51853626 0.26072986 0.07611019 ... 0.15782864 0.25391519 0.31518325]\n",
      " ...\n",
      " [0.05196881 0.54509243 0.67620323 ... 0.63357248 0.40717601 0.76372611]\n",
      " [0.50585914 0.32608351 0.01241136 ... 0.07934551 0.18089737 0.93941228]\n",
      " [0.03197635 0.97054632 0.64037044 ... 0.41297717 0.52335253 0.19331759]]\n"
     ]
    }
   ],
   "source": [
    "print(b)"
   ]
  },
  {
   "cell_type": "code",
   "execution_count": 28,
   "metadata": {},
   "outputs": [
    {
     "name": "stdout",
     "output_type": "stream",
     "text": [
      "[ 0.34922559 -0.03092923 -0.02550019 ...  0.11616575 -0.36530925\n",
      " -0.65843888]\n"
     ]
    }
   ],
   "source": [
    "print(c[0])"
   ]
  },
  {
   "cell_type": "code",
   "execution_count": 34,
   "metadata": {},
   "outputs": [],
   "source": [
    "a=np.random.rand(2,2,2)"
   ]
  },
  {
   "cell_type": "code",
   "execution_count": 36,
   "metadata": {},
   "outputs": [
    {
     "data": {
      "text/plain": [
       "array([[[0.79490261, 0.83823816],\n",
       "        [0.06672979, 0.47680595]],\n",
       "\n",
       "       [[0.50766419, 0.43348354],\n",
       "        [0.59928322, 0.67747625]]])"
      ]
     },
     "execution_count": 36,
     "metadata": {},
     "output_type": "execute_result"
    }
   ],
   "source": [
    "a"
   ]
  },
  {
   "cell_type": "code",
   "execution_count": 37,
   "metadata": {},
   "outputs": [
    {
     "data": {
      "text/plain": [
       "array([[[0.63187015, 0.70264321],\n",
       "        [0.00445286, 0.22734391]],\n",
       "\n",
       "       [[0.25772293, 0.18790798],\n",
       "        [0.35914038, 0.45897407]]])"
      ]
     },
     "execution_count": 37,
     "metadata": {},
     "output_type": "execute_result"
    }
   ],
   "source": [
    "np.square(a)"
   ]
  },
  {
   "cell_type": "code",
   "execution_count": null,
   "metadata": {},
   "outputs": [],
   "source": []
  }
 ],
 "metadata": {
  "kernelspec": {
   "display_name": "Python 3",
   "language": "python",
   "name": "python3"
  },
  "language_info": {
   "codemirror_mode": {
    "name": "ipython",
    "version": 3
   },
   "file_extension": ".py",
   "mimetype": "text/x-python",
   "name": "python",
   "nbconvert_exporter": "python",
   "pygments_lexer": "ipython3",
   "version": "3.6.4"
  }
 },
 "nbformat": 4,
 "nbformat_minor": 2
}
